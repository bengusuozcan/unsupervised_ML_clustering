{
  "nbformat": 4,
  "nbformat_minor": 0,
  "metadata": {
    "colab": {
      "name": "Wine Classification w/ Unsupervised ML ",
      "provenance": [],
      "collapsed_sections": []
    },
    "kernelspec": {
      "name": "python3",
      "display_name": "Python 3"
    }
  },
  "cells": [
    {
      "cell_type": "markdown",
      "metadata": {
        "id": "y47JxF3zzsU4"
      },
      "source": [
        "**Wine Quality Classification by Unsupervised ML Methods**"
      ]
    },
    {
      "cell_type": "markdown",
      "metadata": {
        "id": "lVVR7O67z7yE"
      },
      "source": [
        "Created on Google Colab.\r\n",
        "\r\n",
        "Objective is to cluster wines based on their quality and determine which features contribute to wine quality, using primary unsupervised learning methods of K-menas clustering, Hierarchical Clustering and PCA Analysis. Data is from a publicly available data archive for ML coursework."
      ]
    },
    {
      "cell_type": "code",
      "metadata": {
        "colab": {
          "base_uri": "https://localhost:8080/",
          "height": 219
        },
        "id": "llIbnjJGfFG9",
        "outputId": "a0a9a40c-5eac-432d-c4ea-e6468fd3dcad"
      },
      "source": [
        "import pandas as pd\n",
        "import numpy as np\n",
        "import matplotlib.pyplot as plt\n",
        "import seaborn as sns; sns.set()\n",
        "import matplotlib.pyplot as plt\n",
        "\n",
        "# Reading the red wine file and checking the top few rows of the data file to understand the structure.\n",
        "\n",
        "red = pd.DataFrame(pd.read_csv(\"https://archive.ics.uci.edu/ml/machine-learning-databases/wine-quality/winequality-red.csv\", sep=';'))\n",
        "red.head()"
      ],
      "execution_count": null,
      "outputs": [
        {
          "output_type": "execute_result",
          "data": {
            "text/html": [
              "<div>\n",
              "<style scoped>\n",
              "    .dataframe tbody tr th:only-of-type {\n",
              "        vertical-align: middle;\n",
              "    }\n",
              "\n",
              "    .dataframe tbody tr th {\n",
              "        vertical-align: top;\n",
              "    }\n",
              "\n",
              "    .dataframe thead th {\n",
              "        text-align: right;\n",
              "    }\n",
              "</style>\n",
              "<table border=\"1\" class=\"dataframe\">\n",
              "  <thead>\n",
              "    <tr style=\"text-align: right;\">\n",
              "      <th></th>\n",
              "      <th>fixed acidity</th>\n",
              "      <th>volatile acidity</th>\n",
              "      <th>citric acid</th>\n",
              "      <th>residual sugar</th>\n",
              "      <th>chlorides</th>\n",
              "      <th>free sulfur dioxide</th>\n",
              "      <th>total sulfur dioxide</th>\n",
              "      <th>density</th>\n",
              "      <th>pH</th>\n",
              "      <th>sulphates</th>\n",
              "      <th>alcohol</th>\n",
              "      <th>quality</th>\n",
              "    </tr>\n",
              "  </thead>\n",
              "  <tbody>\n",
              "    <tr>\n",
              "      <th>0</th>\n",
              "      <td>7.4</td>\n",
              "      <td>0.70</td>\n",
              "      <td>0.00</td>\n",
              "      <td>1.9</td>\n",
              "      <td>0.076</td>\n",
              "      <td>11.0</td>\n",
              "      <td>34.0</td>\n",
              "      <td>0.9978</td>\n",
              "      <td>3.51</td>\n",
              "      <td>0.56</td>\n",
              "      <td>9.4</td>\n",
              "      <td>5</td>\n",
              "    </tr>\n",
              "    <tr>\n",
              "      <th>1</th>\n",
              "      <td>7.8</td>\n",
              "      <td>0.88</td>\n",
              "      <td>0.00</td>\n",
              "      <td>2.6</td>\n",
              "      <td>0.098</td>\n",
              "      <td>25.0</td>\n",
              "      <td>67.0</td>\n",
              "      <td>0.9968</td>\n",
              "      <td>3.20</td>\n",
              "      <td>0.68</td>\n",
              "      <td>9.8</td>\n",
              "      <td>5</td>\n",
              "    </tr>\n",
              "    <tr>\n",
              "      <th>2</th>\n",
              "      <td>7.8</td>\n",
              "      <td>0.76</td>\n",
              "      <td>0.04</td>\n",
              "      <td>2.3</td>\n",
              "      <td>0.092</td>\n",
              "      <td>15.0</td>\n",
              "      <td>54.0</td>\n",
              "      <td>0.9970</td>\n",
              "      <td>3.26</td>\n",
              "      <td>0.65</td>\n",
              "      <td>9.8</td>\n",
              "      <td>5</td>\n",
              "    </tr>\n",
              "    <tr>\n",
              "      <th>3</th>\n",
              "      <td>11.2</td>\n",
              "      <td>0.28</td>\n",
              "      <td>0.56</td>\n",
              "      <td>1.9</td>\n",
              "      <td>0.075</td>\n",
              "      <td>17.0</td>\n",
              "      <td>60.0</td>\n",
              "      <td>0.9980</td>\n",
              "      <td>3.16</td>\n",
              "      <td>0.58</td>\n",
              "      <td>9.8</td>\n",
              "      <td>6</td>\n",
              "    </tr>\n",
              "    <tr>\n",
              "      <th>4</th>\n",
              "      <td>7.4</td>\n",
              "      <td>0.70</td>\n",
              "      <td>0.00</td>\n",
              "      <td>1.9</td>\n",
              "      <td>0.076</td>\n",
              "      <td>11.0</td>\n",
              "      <td>34.0</td>\n",
              "      <td>0.9978</td>\n",
              "      <td>3.51</td>\n",
              "      <td>0.56</td>\n",
              "      <td>9.4</td>\n",
              "      <td>5</td>\n",
              "    </tr>\n",
              "  </tbody>\n",
              "</table>\n",
              "</div>"
            ],
            "text/plain": [
              "   fixed acidity  volatile acidity  citric acid  ...  sulphates  alcohol  quality\n",
              "0            7.4              0.70         0.00  ...       0.56      9.4        5\n",
              "1            7.8              0.88         0.00  ...       0.68      9.8        5\n",
              "2            7.8              0.76         0.04  ...       0.65      9.8        5\n",
              "3           11.2              0.28         0.56  ...       0.58      9.8        6\n",
              "4            7.4              0.70         0.00  ...       0.56      9.4        5\n",
              "\n",
              "[5 rows x 12 columns]"
            ]
          },
          "metadata": {
            "tags": []
          },
          "execution_count": 11
        }
      ]
    },
    {
      "cell_type": "code",
      "metadata": {
        "id": "WN5LHAublVBx"
      },
      "source": [
        "from sklearn.preprocessing import scale\n",
        "from sklearn.cluster import KMeans\n",
        "\n",
        "#Scaling the data\n",
        "\n",
        "red_scaled = pd.DataFrame(scale(red), index=red.index, columns=red.columns)"
      ],
      "execution_count": null,
      "outputs": []
    },
    {
      "cell_type": "code",
      "metadata": {
        "colab": {
          "base_uri": "https://localhost:8080/",
          "height": 189
        },
        "id": "BGAQSa4vlmaH",
        "outputId": "f82ff4c9-e920-4ed4-b217-0a5fa2d46951"
      },
      "source": [
        "#fitting k-means clustering, setting number of clusters to 3 randomly.\n",
        "\n",
        "km1 = KMeans(n_clusters=3, n_init=20)\n",
        "km1.fit(red_scaled)\n",
        "red_scaled['cluster'] = km1.labels_\n",
        "display(red_scaled.groupby('cluster').mean())\n",
        "\n",
        "#cluster 2 is the best, cluster 1 is intermediate and cluster 0 is the worst quality wine. \n",
        "# alcohol rate and sulfur dioxide are likely to contribute to the wine quality since they follow the similar pattern with quality clustering. \n",
        "# note that the values of each feature are on standardized scale. "
      ],
      "execution_count": null,
      "outputs": [
        {
          "output_type": "display_data",
          "data": {
            "text/html": [
              "<div>\n",
              "<style scoped>\n",
              "    .dataframe tbody tr th:only-of-type {\n",
              "        vertical-align: middle;\n",
              "    }\n",
              "\n",
              "    .dataframe tbody tr th {\n",
              "        vertical-align: top;\n",
              "    }\n",
              "\n",
              "    .dataframe thead th {\n",
              "        text-align: right;\n",
              "    }\n",
              "</style>\n",
              "<table border=\"1\" class=\"dataframe\">\n",
              "  <thead>\n",
              "    <tr style=\"text-align: right;\">\n",
              "      <th></th>\n",
              "      <th>fixed acidity</th>\n",
              "      <th>volatile acidity</th>\n",
              "      <th>citric acid</th>\n",
              "      <th>residual sugar</th>\n",
              "      <th>chlorides</th>\n",
              "      <th>free sulfur dioxide</th>\n",
              "      <th>total sulfur dioxide</th>\n",
              "      <th>density</th>\n",
              "      <th>pH</th>\n",
              "      <th>sulphates</th>\n",
              "      <th>alcohol</th>\n",
              "      <th>quality</th>\n",
              "    </tr>\n",
              "    <tr>\n",
              "      <th>cluster</th>\n",
              "      <th></th>\n",
              "      <th></th>\n",
              "      <th></th>\n",
              "      <th></th>\n",
              "      <th></th>\n",
              "      <th></th>\n",
              "      <th></th>\n",
              "      <th></th>\n",
              "      <th></th>\n",
              "      <th></th>\n",
              "      <th></th>\n",
              "      <th></th>\n",
              "    </tr>\n",
              "  </thead>\n",
              "  <tbody>\n",
              "    <tr>\n",
              "      <th>0</th>\n",
              "      <td>-0.064045</td>\n",
              "      <td>0.050084</td>\n",
              "      <td>0.099918</td>\n",
              "      <td>0.361867</td>\n",
              "      <td>-0.002867</td>\n",
              "      <td>1.024745</td>\n",
              "      <td>1.267761</td>\n",
              "      <td>0.296404</td>\n",
              "      <td>-0.171839</td>\n",
              "      <td>-0.181772</td>\n",
              "      <td>-0.546743</td>\n",
              "      <td>-0.437077</td>\n",
              "    </tr>\n",
              "    <tr>\n",
              "      <th>1</th>\n",
              "      <td>0.948582</td>\n",
              "      <td>-0.731324</td>\n",
              "      <td>1.008170</td>\n",
              "      <td>0.037305</td>\n",
              "      <td>0.241678</td>\n",
              "      <td>-0.432296</td>\n",
              "      <td>-0.466686</td>\n",
              "      <td>0.364027</td>\n",
              "      <td>-0.728786</td>\n",
              "      <td>0.587733</td>\n",
              "      <td>0.379856</td>\n",
              "      <td>0.561225</td>\n",
              "    </tr>\n",
              "    <tr>\n",
              "      <th>2</th>\n",
              "      <td>-0.646621</td>\n",
              "      <td>0.498127</td>\n",
              "      <td>-0.781045</td>\n",
              "      <td>-0.228904</td>\n",
              "      <td>-0.172255</td>\n",
              "      <td>-0.261240</td>\n",
              "      <td>-0.372202</td>\n",
              "      <td>-0.427385</td>\n",
              "      <td>0.620225</td>\n",
              "      <td>-0.321298</td>\n",
              "      <td>0.032046</td>\n",
              "      <td>-0.159665</td>\n",
              "    </tr>\n",
              "  </tbody>\n",
              "</table>\n",
              "</div>"
            ],
            "text/plain": [
              "         fixed acidity  volatile acidity  ...   alcohol   quality\n",
              "cluster                                   ...                    \n",
              "0            -0.064045          0.050084  ... -0.546743 -0.437077\n",
              "1             0.948582         -0.731324  ...  0.379856  0.561225\n",
              "2            -0.646621          0.498127  ...  0.032046 -0.159665\n",
              "\n",
              "[3 rows x 12 columns]"
            ]
          },
          "metadata": {
            "tags": []
          }
        }
      ]
    },
    {
      "cell_type": "code",
      "metadata": {
        "colab": {
          "base_uri": "https://localhost:8080/",
          "height": 373
        },
        "id": "8O83OFRGxln_",
        "outputId": "0b1a814c-2faf-4bb8-a08d-9f624a0329ce"
      },
      "source": [
        "#Using elbow curve approach to determine the optimum number of clusters, which is found to be 5 below.\n",
        "\n",
        "within_cluster_variance = []\n",
        "from sklearn.metrics import pairwise_distances_argmin\n",
        "for k in range(2, 20):\n",
        "    kmeans = KMeans(n_clusters=k)\n",
        "    kmeans.fit(red_scaled)\n",
        "    within_cluster_variance.append(kmeans.inertia_)\n",
        "\n",
        "fig = plt.figure(figsize=(15, 5))\n",
        "plt.plot(range(2, 20), within_cluster_variance, marker='o')\n",
        "plt.grid(True)\n",
        "plt.xlabel('Number of clusters')\n",
        "plt.ylabel('Reduction in within cluster variation')\n",
        "\n",
        "plt.title('Elbow curve')  "
      ],
      "execution_count": null,
      "outputs": [
        {
          "output_type": "execute_result",
          "data": {
            "text/plain": [
              "Text(0.5, 1.0, 'Elbow curve')"
            ]
          },
          "metadata": {
            "tags": []
          },
          "execution_count": 14
        },
        {
          "output_type": "display_data",
          "data": {
            "image/png": "[encoded data removed]",
            "text/plain": [
              "<Figure size 1080x360 with 1 Axes>"
            ]
          },
          "metadata": {
            "tags": []
          }
        }
      ]
    },
    {
      "cell_type": "code",
      "metadata": {
        "id": "85kTn76gmPrO",
        "colab": {
          "base_uri": "https://localhost:8080/",
          "height": 250
        },
        "outputId": "b7e3955e-6431-4f45-e2d7-349e0648eb7e"
      },
      "source": [
        "#k-means clustering with 5 clusters\n",
        "\n",
        "np.random.seed(4)\n",
        "km2 = KMeans(n_clusters=5, n_init=20)\n",
        "km2.fit(red_scaled)\n",
        "red_scaled['cluster'] = km2.labels_\n",
        "display(red_scaled.groupby('cluster').mean())\n",
        "\n",
        "#lower volatilie acidity and higher alcohol are clustered under better quality wines, which are clusters 2 and 4."
      ],
      "execution_count": null,
      "outputs": [
        {
          "output_type": "display_data",
          "data": {
            "text/html": [
              "<div>\n",
              "<style scoped>\n",
              "    .dataframe tbody tr th:only-of-type {\n",
              "        vertical-align: middle;\n",
              "    }\n",
              "\n",
              "    .dataframe tbody tr th {\n",
              "        vertical-align: top;\n",
              "    }\n",
              "\n",
              "    .dataframe thead th {\n",
              "        text-align: right;\n",
              "    }\n",
              "</style>\n",
              "<table border=\"1\" class=\"dataframe\">\n",
              "  <thead>\n",
              "    <tr style=\"text-align: right;\">\n",
              "      <th></th>\n",
              "      <th>fixed acidity</th>\n",
              "      <th>volatile acidity</th>\n",
              "      <th>citric acid</th>\n",
              "      <th>residual sugar</th>\n",
              "      <th>chlorides</th>\n",
              "      <th>free sulfur dioxide</th>\n",
              "      <th>total sulfur dioxide</th>\n",
              "      <th>density</th>\n",
              "      <th>pH</th>\n",
              "      <th>sulphates</th>\n",
              "      <th>alcohol</th>\n",
              "      <th>quality</th>\n",
              "    </tr>\n",
              "    <tr>\n",
              "      <th>cluster</th>\n",
              "      <th></th>\n",
              "      <th></th>\n",
              "      <th></th>\n",
              "      <th></th>\n",
              "      <th></th>\n",
              "      <th></th>\n",
              "      <th></th>\n",
              "      <th></th>\n",
              "      <th></th>\n",
              "      <th></th>\n",
              "      <th></th>\n",
              "      <th></th>\n",
              "    </tr>\n",
              "  </thead>\n",
              "  <tbody>\n",
              "    <tr>\n",
              "      <th>0</th>\n",
              "      <td>-0.069954</td>\n",
              "      <td>0.088045</td>\n",
              "      <td>0.076170</td>\n",
              "      <td>0.387805</td>\n",
              "      <td>0.009027</td>\n",
              "      <td>1.006065</td>\n",
              "      <td>1.269162</td>\n",
              "      <td>0.355323</td>\n",
              "      <td>-0.148313</td>\n",
              "      <td>-0.182081</td>\n",
              "      <td>-0.598762</td>\n",
              "      <td>-0.455977</td>\n",
              "    </tr>\n",
              "    <tr>\n",
              "      <th>1</th>\n",
              "      <td>-0.637730</td>\n",
              "      <td>-0.463139</td>\n",
              "      <td>-0.131595</td>\n",
              "      <td>-0.228236</td>\n",
              "      <td>-0.396437</td>\n",
              "      <td>0.117600</td>\n",
              "      <td>-0.242747</td>\n",
              "      <td>-1.190841</td>\n",
              "      <td>0.560208</td>\n",
              "      <td>0.188748</td>\n",
              "      <td>1.276404</td>\n",
              "      <td>0.874713</td>\n",
              "    </tr>\n",
              "    <tr>\n",
              "      <th>2</th>\n",
              "      <td>1.335952</td>\n",
              "      <td>-0.676338</td>\n",
              "      <td>1.128780</td>\n",
              "      <td>0.153920</td>\n",
              "      <td>-0.008809</td>\n",
              "      <td>-0.545055</td>\n",
              "      <td>-0.532427</td>\n",
              "      <td>0.780706</td>\n",
              "      <td>-0.845791</td>\n",
              "      <td>0.342206</td>\n",
              "      <td>0.197450</td>\n",
              "      <td>0.413519</td>\n",
              "    </tr>\n",
              "    <tr>\n",
              "      <th>3</th>\n",
              "      <td>-0.515495</td>\n",
              "      <td>0.668984</td>\n",
              "      <td>-0.824084</td>\n",
              "      <td>-0.231692</td>\n",
              "      <td>-0.082348</td>\n",
              "      <td>-0.405493</td>\n",
              "      <td>-0.426621</td>\n",
              "      <td>-0.124971</td>\n",
              "      <td>0.464779</td>\n",
              "      <td>-0.419300</td>\n",
              "      <td>-0.388879</td>\n",
              "      <td>-0.439961</td>\n",
              "    </tr>\n",
              "    <tr>\n",
              "      <th>4</th>\n",
              "      <td>0.081831</td>\n",
              "      <td>0.017955</td>\n",
              "      <td>1.144178</td>\n",
              "      <td>-0.399396</td>\n",
              "      <td>5.604731</td>\n",
              "      <td>-0.070479</td>\n",
              "      <td>0.474416</td>\n",
              "      <td>0.185803</td>\n",
              "      <td>-1.687357</td>\n",
              "      <td>3.720608</td>\n",
              "      <td>-0.882563</td>\n",
              "      <td>-0.360695</td>\n",
              "    </tr>\n",
              "  </tbody>\n",
              "</table>\n",
              "</div>"
            ],
            "text/plain": [
              "         fixed acidity  volatile acidity  ...   alcohol   quality\n",
              "cluster                                   ...                    \n",
              "0            -0.069954          0.088045  ... -0.598762 -0.455977\n",
              "1            -0.637730         -0.463139  ...  1.276404  0.874713\n",
              "2             1.335952         -0.676338  ...  0.197450  0.413519\n",
              "3            -0.515495          0.668984  ... -0.388879 -0.439961\n",
              "4             0.081831          0.017955  ... -0.882563 -0.360695\n",
              "\n",
              "[5 rows x 12 columns]"
            ]
          },
          "metadata": {
            "tags": []
          }
        }
      ]
    },
    {
      "cell_type": "code",
      "metadata": {
        "colab": {
          "base_uri": "https://localhost:8080/",
          "height": 268
        },
        "id": "NYqSP-g4XmTI",
        "outputId": "9c362448-cb6b-413b-c392-6fde4be42107"
      },
      "source": [
        "# visualizing cluster centers\n",
        "\n",
        "plt.scatter(red_scaled.iloc[:, 0], red_scaled.iloc[:, 1], s=50, cmap='viridis')\n",
        "centers = km2.cluster_centers_\n",
        "plt.scatter(centers[:, 0], centers[:, 1], c='black', s=200, alpha=0.5);"
      ],
      "execution_count": null,
      "outputs": [
        {
          "output_type": "display_data",
          "data": {
            "image/png": "[encoded data removed]",
            "text/plain": [
              "<Figure size 432x288 with 1 Axes>"
            ]
          },
          "metadata": {
            "tags": []
          }
        }
      ]
    },
    {
      "cell_type": "code",
      "metadata": {
        "id": "KKOT6LrJHGNW"
      },
      "source": [
        "# Hierarchical Clustering with complete linkage. Number of clusters is chosen 5 from the elbow curve above.\n",
        "\n",
        "from sklearn.cluster import AgglomerativeClustering\n",
        "ac = AgglomerativeClustering(n_clusters=5, \n",
        "                             affinity='euclidean', \n",
        "                             linkage='complete')\n",
        "labels = ac.fit_predict(red_scaled)    "
      ],
      "execution_count": null,
      "outputs": []
    },
    {
      "cell_type": "code",
      "metadata": {
        "colab": {
          "base_uri": "https://localhost:8080/",
          "height": 250
        },
        "id": "We9Ihb_AHeR5",
        "outputId": "7a71a2ec-e34d-435e-fa5e-72d6180ad92e"
      },
      "source": [
        "red_scaled['cluster'] = ac.labels_\n",
        "display(red_scaled.groupby('cluster').mean())\n",
        "\n",
        "#alcohol rate is still clustered with better wine quality"
      ],
      "execution_count": null,
      "outputs": [
        {
          "output_type": "display_data",
          "data": {
            "text/html": [
              "<div>\n",
              "<style scoped>\n",
              "    .dataframe tbody tr th:only-of-type {\n",
              "        vertical-align: middle;\n",
              "    }\n",
              "\n",
              "    .dataframe tbody tr th {\n",
              "        vertical-align: top;\n",
              "    }\n",
              "\n",
              "    .dataframe thead th {\n",
              "        text-align: right;\n",
              "    }\n",
              "</style>\n",
              "<table border=\"1\" class=\"dataframe\">\n",
              "  <thead>\n",
              "    <tr style=\"text-align: right;\">\n",
              "      <th></th>\n",
              "      <th>fixed acidity</th>\n",
              "      <th>volatile acidity</th>\n",
              "      <th>citric acid</th>\n",
              "      <th>residual sugar</th>\n",
              "      <th>chlorides</th>\n",
              "      <th>free sulfur dioxide</th>\n",
              "      <th>total sulfur dioxide</th>\n",
              "      <th>density</th>\n",
              "      <th>pH</th>\n",
              "      <th>sulphates</th>\n",
              "      <th>alcohol</th>\n",
              "      <th>quality</th>\n",
              "    </tr>\n",
              "    <tr>\n",
              "      <th>cluster</th>\n",
              "      <th></th>\n",
              "      <th></th>\n",
              "      <th></th>\n",
              "      <th></th>\n",
              "      <th></th>\n",
              "      <th></th>\n",
              "      <th></th>\n",
              "      <th></th>\n",
              "      <th></th>\n",
              "      <th></th>\n",
              "      <th></th>\n",
              "      <th></th>\n",
              "    </tr>\n",
              "  </thead>\n",
              "  <tbody>\n",
              "    <tr>\n",
              "      <th>0</th>\n",
              "      <td>-0.000987</td>\n",
              "      <td>0.017364</td>\n",
              "      <td>-0.034363</td>\n",
              "      <td>-0.065882</td>\n",
              "      <td>-0.108317</td>\n",
              "      <td>-0.031351</td>\n",
              "      <td>-0.041710</td>\n",
              "      <td>-0.007461</td>\n",
              "      <td>0.053300</td>\n",
              "      <td>-0.089000</td>\n",
              "      <td>0.016765</td>\n",
              "      <td>-0.000388</td>\n",
              "    </tr>\n",
              "    <tr>\n",
              "      <th>1</th>\n",
              "      <td>0.295601</td>\n",
              "      <td>-0.175857</td>\n",
              "      <td>0.886735</td>\n",
              "      <td>-0.370158</td>\n",
              "      <td>3.432669</td>\n",
              "      <td>-0.239944</td>\n",
              "      <td>0.207538</td>\n",
              "      <td>0.210146</td>\n",
              "      <td>-1.497447</td>\n",
              "      <td>3.378988</td>\n",
              "      <td>-0.639724</td>\n",
              "      <td>-0.062747</td>\n",
              "    </tr>\n",
              "    <tr>\n",
              "      <th>2</th>\n",
              "      <td>-0.244286</td>\n",
              "      <td>-0.278011</td>\n",
              "      <td>0.174717</td>\n",
              "      <td>6.231640</td>\n",
              "      <td>0.600538</td>\n",
              "      <td>2.121151</td>\n",
              "      <td>1.318701</td>\n",
              "      <td>1.428969</td>\n",
              "      <td>-0.176394</td>\n",
              "      <td>-0.212014</td>\n",
              "      <td>-0.511769</td>\n",
              "      <td>-0.099672</td>\n",
              "    </tr>\n",
              "    <tr>\n",
              "      <th>3</th>\n",
              "      <td>0.074897</td>\n",
              "      <td>-0.350945</td>\n",
              "      <td>3.127368</td>\n",
              "      <td>0.043416</td>\n",
              "      <td>11.116408</td>\n",
              "      <td>0.394484</td>\n",
              "      <td>0.320274</td>\n",
              "      <td>0.770280</td>\n",
              "      <td>-2.663717</td>\n",
              "      <td>5.735193</td>\n",
              "      <td>-0.960246</td>\n",
              "      <td>-1.407158</td>\n",
              "    </tr>\n",
              "    <tr>\n",
              "      <th>4</th>\n",
              "      <td>-0.707102</td>\n",
              "      <td>-1.514795</td>\n",
              "      <td>0.753836</td>\n",
              "      <td>0.406038</td>\n",
              "      <td>-0.907295</td>\n",
              "      <td>2.089274</td>\n",
              "      <td>3.432125</td>\n",
              "      <td>-2.718977</td>\n",
              "      <td>-1.288670</td>\n",
              "      <td>-1.123438</td>\n",
              "      <td>1.302998</td>\n",
              "      <td>0.863739</td>\n",
              "    </tr>\n",
              "  </tbody>\n",
              "</table>\n",
              "</div>"
            ],
            "text/plain": [
              "         fixed acidity  volatile acidity  ...   alcohol   quality\n",
              "cluster                                   ...                    \n",
              "0            -0.000987          0.017364  ...  0.016765 -0.000388\n",
              "1             0.295601         -0.175857  ... -0.639724 -0.062747\n",
              "2            -0.244286         -0.278011  ... -0.511769 -0.099672\n",
              "3             0.074897         -0.350945  ... -0.960246 -1.407158\n",
              "4            -0.707102         -1.514795  ...  1.302998  0.863739\n",
              "\n",
              "[5 rows x 12 columns]"
            ]
          },
          "metadata": {
            "tags": []
          }
        }
      ]
    },
    {
      "cell_type": "code",
      "metadata": {
        "id": "ieoQsMJRmaBj"
      },
      "source": [
        "from scipy.cluster.hierarchy import linkage\n",
        "from scipy.spatial.distance import pdist, squareform\n",
        "row_clusters = linkage(pdist(red_scaled, metric='euclidean'), method='complete')"
      ],
      "execution_count": null,
      "outputs": []
    },
    {
      "cell_type": "code",
      "metadata": {
        "id": "QSeNo7LXFXqN",
        "colab": {
          "base_uri": "https://localhost:8080/",
          "height": 293
        },
        "outputId": "9b2076bd-3eca-480a-a2f3-feef7e2fe8bf"
      },
      "source": [
        "#using dendrogram for visualizing hierarchical clustering. \n",
        "\n",
        "from scipy.cluster.hierarchy import dendrogram\n",
        "row_dendr = dendrogram(row_clusters, labels = labels,\n",
        "                       )\n",
        "plt.tight_layout()\n",
        "plt.ylabel('Euclidean distance')\n",
        "plt.show()"
      ],
      "execution_count": null,
      "outputs": [
        {
          "output_type": "display_data",
          "data": {
            "image/png": "[encoded data removed]",
            "text/plain": [
              "<Figure size 432x288 with 1 Axes>"
            ]
          },
          "metadata": {
            "tags": []
          }
        }
      ]
    },
    {
      "cell_type": "code",
      "metadata": {
        "colab": {
          "base_uri": "https://localhost:8080/"
        },
        "id": "9Abe0Nk-H2oZ",
        "outputId": "28290959-70e4-418e-88a7-58f3d29a6274"
      },
      "source": [
        "#Principal Components Analysis to reduce the components.\n",
        "\n",
        "from sklearn.decomposition import PCA\n",
        "pca = PCA(n_components=1)\n",
        "pca.fit(red_scaled)\n",
        "red_pca1 = pca.transform(red_scaled) \n",
        "print(\"original shape:   \", red_scaled.shape)\n",
        "print(\"transformed shape:\", red_pca1.shape)"
      ],
      "execution_count": null,
      "outputs": [
        {
          "output_type": "stream",
          "text": [
            "original shape:    (1599, 13)\n",
            "transformed shape: (1599, 1)\n"
          ],
          "name": "stdout"
        }
      ]
    },
    {
      "cell_type": "code",
      "metadata": {
        "colab": {
          "base_uri": "https://localhost:8080/"
        },
        "id": "RW-K2tacx1yF",
        "outputId": "0b6c8b97-9ac9-4cbd-988d-405217b7ba31"
      },
      "source": [
        "print(pca.explained_variance_)"
      ],
      "execution_count": null,
      "outputs": [
        {
          "output_type": "stream",
          "text": [
            "[3.12810593]\n"
          ],
          "name": "stdout"
        }
      ]
    },
    {
      "cell_type": "code",
      "metadata": {
        "colab": {
          "base_uri": "https://localhost:8080/"
        },
        "id": "qCYooSskIMFU",
        "outputId": "8e77718b-b94d-4a93-ff53-c1f7571e9785"
      },
      "source": [
        "pca = PCA(n_components=2) \n",
        "pca.fit(red_scaled)\n",
        "print(pca.explained_variance_)\n",
        "\n",
        "# The first principle component vector is able to explain 3.1 and the second one is able to explain 2.26 out of total variance of the data. "
      ],
      "execution_count": null,
      "outputs": [
        {
          "output_type": "stream",
          "text": [
            "[3.12810593 2.24602899]\n"
          ],
          "name": "stdout"
        }
      ]
    },
    {
      "cell_type": "code",
      "metadata": {
        "colab": {
          "base_uri": "https://localhost:8080/",
          "height": 285
        },
        "id": "DRm9EfPhyZJy",
        "outputId": "4870ba19-69f9-438a-f622-6388da0dabb2"
      },
      "source": [
        "pca = PCA().fit(red_scaled)  \n",
        "plt.plot(np.cumsum(pca.explained_variance_ratio_))\n",
        "plt.xlabel('number of components')\n",
        "plt.ylabel('cumulative explained variance');\n",
        "\n",
        "# 2 principal component vectors explain about 60% of the total variance in the data"
      ],
      "execution_count": null,
      "outputs": [
        {
          "output_type": "display_data",
          "data": {
            "image/png": "[encoded data removed]",
            "text/plain": [
              "<Figure size 432x288 with 1 Axes>"
            ]
          },
          "metadata": {
            "tags": []
          }
        }
      ]
    }
  ]
}